{
  "cells": [
    {
      "cell_type": "markdown",
      "metadata": {
        "id": "G9WUWUKLlIIz"
      },
      "source": [
        "# A simple L-shaped example"
      ]
    },
    {
      "cell_type": "code",
      "execution_count": 1,
      "metadata": {
        "id": "vxw7TegdeW1k"
      },
      "outputs": [],
      "source": [
        "import calliope\n",
        "import pandas as pd\n",
        "import pyomo.kernel as pmo"
      ]
    },
    {
      "cell_type": "markdown",
      "metadata": {
        "id": "aXb28DCDhQ43"
      },
      "source": [
        "## Setup energy system models using Calliope"
      ]
    },
    {
      "cell_type": "code",
      "execution_count": null,
      "metadata": {
        "colab": {
          "base_uri": "https://localhost:8080/"
        },
        "id": "tzpBvKMOf0D-",
        "outputId": "967b3844-52a3-4218-f360-e50c25d9e70f"
      },
      "outputs": [],
      "source": [
        "config = \"national_scale/model.yaml\"\n",
        "first_hour = \"2005-01-01T00:00\"\n",
        "\n",
        "subsets = [\n",
        "    (\"2005-01-01\", \"2005-01-07\"),\n",
        "    (\"2005-01-08\", \"2005-01-14\"),\n",
        "    (\"2005-01-15\", \"2005-01-21\"),\n",
        "]\n",
        "\n",
        "N = len(subsets)\n",
        "\n",
        "model = {\n",
        "    \"main\": {\"calliope\": calliope.Model(config, override_dict={\"config.init.time_subset\": [first_hour, first_hour]})},\n",
        "    \"subs\": [{\"calliope\": calliope.Model(config, override_dict={\"config.init.time_subset\": s})} for s in subsets],\n",
        "}\n",
        "\n",
        "for i, m in enumerate([model[\"main\"]] + model[\"subs\"]):\n",
        "    m[\"calliope\"].build()\n",
        "    m[\"T\"] = len(m[\"calliope\"].inputs.timesteps)\n",
        "    m[\"backend\"] = m[\"calliope\"].backend\n",
        "    m[\"pyomo\"] = m[\"backend\"]._instance\n",
        "    m[\"vars\"] = m[\"backend\"].variables.to_dataframe()\n",
        "    ts = m[\"vars\"].index.get_level_values(\"timesteps\")\n",
        "    m[\"vars\"] = m[\"vars\"].loc[ts == ts[0]]\n",
        "    m[\"vars\"].index = m[\"vars\"].index.droplevel([2, 3])"
      ]
    },
    {
      "cell_type": "markdown",
      "metadata": {
        "id": "bmMwJp0yhR06"
      },
      "source": [
        "## Prepare linking variables"
      ]
    },
    {
      "cell_type": "code",
      "execution_count": 3,
      "metadata": {
        "id": "UjFlb-LWhSMk"
      },
      "outputs": [],
      "source": [
        "link_var_names = [\"flow_cap\", \"storage_cap\", \"link_flow_cap\", \"area_use\"]\n",
        "link_var_names = [vn for vn in model[\"main\"][\"vars\"].columns if vn in link_var_names]\n",
        "link_vars = [\n",
        "    (name, i) for name in link_var_names for (i, el) in model[\"main\"][\"vars\"][name].items() if not pd.isnull(el)\n",
        "    ]"
      ]
    },
    {
      "cell_type": "markdown",
      "metadata": {
        "id": "XusXg10mhfTh"
      },
      "source": [
        "## Modify main-model"
      ]
    },
    {
      "cell_type": "code",
      "execution_count": 4,
      "metadata": {
        "id": "MYmCZeMRhfk8"
      },
      "outputs": [],
      "source": [
        "# Deactivate operational variables.\n",
        "for name in model[\"main\"][\"vars\"].columns:\n",
        "    if name in link_var_names:\n",
        "        continue\n",
        "    for var in model[\"main\"][\"vars\"][name].dropna().values:\n",
        "        var.deactivate()\n",
        "\n",
        "# Prepare cut constraints and approximation variable (theta).\n",
        "model[\"main\"][\"pyomo\"].c_cuts = pmo.constraint_list()\n",
        "model[\"main\"][\"pyomo\"].v_theta = pmo.variable_list()\n",
        "for i in range(len(model[\"subs\"])):\n",
        "    model[\"main\"][\"pyomo\"].v_theta.append(pmo.variable(domain=pmo.NonNegativeReals))\n",
        "\n",
        "# Prepare objective.\n",
        "total_invest_cost = model[\"main\"][\"backend\"].get_global_expression(\"cost_investment_annualised\").sum().item()\n",
        "model[\"main\"][\"backend\"].objectives.get(\"min_cost_optimisation\").item().deactivate()\n",
        "model[\"main\"][\"pyomo\"].e_cost = total_invest_cost * model[\"subs\"][0][\"T\"] / model[\"main\"][\"T\"]\n",
        "model[\"main\"][\"pyomo\"].obj = pmo.objective(model[\"main\"][\"pyomo\"].e_cost + sum(model[\"main\"][\"pyomo\"].v_theta) / N)\n",
        "\n",
        "# Ensure that linking variables are bounded.\n",
        "for name, idx in link_vars:\n",
        "    x = model[\"main\"][\"vars\"].loc[idx, name]\n",
        "    x.lb = x.lb or 0.0\n",
        "    x.ub = x.ub or 1e6"
      ]
    },
    {
      "cell_type": "markdown",
      "metadata": {
        "id": "Xkq5u8dxj6se"
      },
      "source": [
        "### Adding bounds to main-model variables\n",
        "\n",
        "Try not executing this cell and see how this affects the convergence."
      ]
    },
    {
      "cell_type": "code",
      "execution_count": 5,
      "metadata": {
        "id": "NvSKQbncj7Nh"
      },
      "outputs": [],
      "source": [
        "# Ensure that linking variables are bounded.\n",
        "for name, idx in link_vars:\n",
        "    x = model[\"main\"][\"vars\"].loc[idx, name]\n",
        "    x.lb = x.lb or 0.0\n",
        "    x.ub = x.ub or 1e6"
      ]
    },
    {
      "cell_type": "markdown",
      "metadata": {
        "id": "WE5gjUoKhg7s"
      },
      "source": [
        "## Modify sub-model"
      ]
    },
    {
      "cell_type": "code",
      "execution_count": 6,
      "metadata": {
        "id": "iIuTqjtMhib1"
      },
      "outputs": [],
      "source": [
        "for m in model[\"subs\"]:\n",
        "    # Fixing linked variables, including penalized slack variables (to ensure feasibility).\n",
        "    m[\"pyomo\"].p_link = pmo.parameter_dict()\n",
        "    m[\"pyomo\"].c_link = pmo.constraint_dict()\n",
        "    m[\"pyomo\"].v_slack_pos = pmo.variable_dict()\n",
        "    m[\"pyomo\"].v_slack_neg = pmo.variable_dict()\n",
        "\n",
        "    for name, idx in link_vars:\n",
        "        m[\"pyomo\"].p_link[(name, idx)] = pmo.parameter(0.0)\n",
        "        m[\"pyomo\"].v_slack_pos[(name, idx)] = pmo.variable(domain=pmo.NonNegativeReals)\n",
        "        m[\"pyomo\"].v_slack_neg[(name, idx)] = pmo.variable(domain=pmo.NonNegativeReals)\n",
        "        m[\"pyomo\"].c_link[(name, idx)] = pmo.constraint(\n",
        "            m[\"pyomo\"].p_link[(name, idx)] + m[\"pyomo\"].v_slack_pos[(name, idx)] - m[\"pyomo\"].v_slack_neg[(name, idx)]\n",
        "            == m[\"vars\"].loc[idx, name]\n",
        "        )\n",
        "\n",
        "    # Prepare objective.\n",
        "    m[\"backend\"].objectives.get(\"min_cost_optimisation\").item().deactivate()\n",
        "    m[\"pyomo\"].obj = pmo.objective(\n",
        "        m[\"backend\"].get_global_expression(\"cost_operation_variable\").sum().item()\n",
        "        + 1e5 * (sum(m[\"pyomo\"].v_slack_pos.values()) + sum(m[\"pyomo\"].v_slack_neg.values()))\n",
        "    )"
      ]
    },
    {
      "cell_type": "markdown",
      "metadata": {
        "id": "cbe5P6B3hkiD"
      },
      "source": [
        "## Prepare optimization"
      ]
    },
    {
      "cell_type": "code",
      "execution_count": 10,
      "metadata": {
        "id": "fui4u4vMhlC9"
      },
      "outputs": [],
      "source": [
        "# Optimizer for main model.\n",
        "opt_m = pmo.SolverFactory(\"gurobi\")\n",
        "opt_m.options[\"Method\"] = 2\n",
        "opt_m.options[\"Crossover\"] = 0\n",
        "\n",
        "# Optimizer for sub model (make sure duals are extracted).\n",
        "opt_s = pmo.SolverFactory(\"gurobi\")\n",
        "for m in model[\"subs\"]:\n",
        "    m[\"pyomo\"].dual.activate()\n",
        "\n",
        "# Track best bounds.\n",
        "lb, ub = -1e100, +1e100"
      ]
    },
    {
      "cell_type": "markdown",
      "metadata": {
        "id": "AXHJ2e1lhs5L"
      },
      "source": [
        "## Start iteration"
      ]
    },
    {
      "cell_type": "code",
      "execution_count": null,
      "metadata": {
        "colab": {
          "base_uri": "https://localhost:8080/"
        },
        "id": "JuzKhupNhtNH",
        "outputId": "d88afbe4-fcba-4c35-85b9-7bf7c95bc590"
      },
      "outputs": [],
      "source": [
        "print(\"  iter  |  lb         |  ub         |  gap\")\n",
        "print(\"--------|-------------|-------------|-------------\")\n",
        "for iter in range(200):\n",
        "    # Optimize main.\n",
        "    ret = opt_m.solve(model[\"main\"][\"pyomo\"])\n",
        "\n",
        "    for m in model[\"subs\"]:\n",
        "        # Fix linking vars.\n",
        "        for name, idx in link_vars:\n",
        "            m[\"pyomo\"].p_link[(name, idx)].value = model[\"main\"][\"vars\"].loc[idx, name].value or 0.0\n",
        "\n",
        "        # Optimize sub.\n",
        "        ret = opt_s.solve(m[\"pyomo\"])\n",
        "\n",
        "    obj_val_sub = [pmo.value(m[\"pyomo\"].obj) for m in model[\"subs\"]]\n",
        "\n",
        "    # Update bounds.\n",
        "    lb = max(lb, pmo.value(model[\"main\"][\"pyomo\"].obj.expr))\n",
        "    ub = min(ub, pmo.value(model[\"main\"][\"pyomo\"].e_cost) + sum(obj_val_sub) / N)\n",
        "\n",
        "    # Update gap, check termination, and log.\n",
        "    gap = abs((ub - lb) / ub)\n",
        "    if (iter % 5) == 0:\n",
        "        print(f\"  {iter:4d}  |  {lb:.3e}  |  {ub:.3e}  |  {gap:.1e}\")\n",
        "    if gap < 1e-2:\n",
        "        print(f\"Reached gap of {gap:.1e} after {iter + 1} iterations, terminating.\")\n",
        "        break\n",
        "\n",
        "    for i, m in enumerate(model[\"subs\"]):\n",
        "        # Build cut.\n",
        "        cut_rhs = obj_val_sub[i]\n",
        "        for name, idx in link_vars:\n",
        "            x = model[\"main\"][\"vars\"].loc[idx, name]\n",
        "            dual = m[\"pyomo\"].dual.get(m[\"pyomo\"].c_link[(name, idx)])\n",
        "            cut_rhs -= dual * (x - x.value)\n",
        "\n",
        "        # Add cut.\n",
        "        model[\"main\"][\"pyomo\"].c_cuts.append(pmo.constraint(model[\"main\"][\"pyomo\"].v_theta[i] >= cut_rhs))"
      ]
    }
  ],
  "metadata": {
    "colab": {
      "provenance": []
    },
    "kernelspec": {
      "display_name": ".venv",
      "language": "python",
      "name": "python3"
    },
    "language_info": {
      "codemirror_mode": {
        "name": "ipython",
        "version": 3
      },
      "file_extension": ".py",
      "mimetype": "text/x-python",
      "name": "python",
      "nbconvert_exporter": "python",
      "pygments_lexer": "ipython3",
      "version": "3.12.8"
    }
  },
  "nbformat": 4,
  "nbformat_minor": 0
}
